{
 "cells": [
  {
   "cell_type": "code",
   "execution_count": 1,
   "metadata": {},
   "outputs": [
    {
     "name": "stderr",
     "output_type": "stream",
     "text": [
      "Using TensorFlow backend.\n"
     ]
    }
   ],
   "source": [
    "from keras.models import Sequential, Model"
   ]
  },
  {
   "cell_type": "code",
   "execution_count": 2,
   "metadata": {},
   "outputs": [],
   "source": [
    "from keras.layers import MaxPooling2D, Convolution2D, ZeroPadding2D, Dropout, Flatten, Dense, Activation\n",
    "from keras.layers import MaxPooling2D, Convolution2D, ZeroPadding2D, Dropout, Flatten, Dense, Activation\n",
    "from keras.preprocessing.image import load_img, img_to_array, save_img\n",
    "from PIL import Image\n",
    "from keras.applications.vgg16 import preprocess_input\n",
    "import numpy as np\n",
    "import os\n",
    "import cv2\n",
    "\n",
    "import warnings\n",
    "warnings.filterwarnings('ignore')"
   ]
  },
  {
   "cell_type": "code",
   "execution_count": 3,
   "metadata": {},
   "outputs": [],
   "source": [
    "import pafy\n"
   ]
  },
  {
   "cell_type": "code",
   "execution_count": 4,
   "metadata": {},
   "outputs": [
    {
     "name": "stdout",
     "output_type": "stream",
     "text": [
      "WARNING:tensorflow:From C:\\Users\\Zeeshan\\AppData\\Local\\Continuum\\anaconda3\\lib\\site-packages\\keras\\backend\\tensorflow_backend.py:74: The name tf.get_default_graph is deprecated. Please use tf.compat.v1.get_default_graph instead.\n",
      "\n",
      "WARNING:tensorflow:From C:\\Users\\Zeeshan\\AppData\\Local\\Continuum\\anaconda3\\lib\\site-packages\\keras\\backend\\tensorflow_backend.py:517: The name tf.placeholder is deprecated. Please use tf.compat.v1.placeholder instead.\n",
      "\n",
      "WARNING:tensorflow:From C:\\Users\\Zeeshan\\AppData\\Local\\Continuum\\anaconda3\\lib\\site-packages\\keras\\backend\\tensorflow_backend.py:4138: The name tf.random_uniform is deprecated. Please use tf.random.uniform instead.\n",
      "\n",
      "WARNING:tensorflow:From C:\\Users\\Zeeshan\\AppData\\Local\\Continuum\\anaconda3\\lib\\site-packages\\keras\\backend\\tensorflow_backend.py:3976: The name tf.nn.max_pool is deprecated. Please use tf.nn.max_pool2d instead.\n",
      "\n",
      "WARNING:tensorflow:From C:\\Users\\Zeeshan\\AppData\\Local\\Continuum\\anaconda3\\lib\\site-packages\\keras\\backend\\tensorflow_backend.py:133: The name tf.placeholder_with_default is deprecated. Please use tf.compat.v1.placeholder_with_default instead.\n",
      "\n",
      "WARNING:tensorflow:From C:\\Users\\Zeeshan\\AppData\\Local\\Continuum\\anaconda3\\lib\\site-packages\\keras\\backend\\tensorflow_backend.py:3445: calling dropout (from tensorflow.python.ops.nn_ops) with keep_prob is deprecated and will be removed in a future version.\n",
      "Instructions for updating:\n",
      "Please use `rate` instead of `keep_prob`. Rate should be set to `rate = 1 - keep_prob`.\n"
     ]
    }
   ],
   "source": [
    "model= Sequential()\n",
    "model.add(ZeroPadding2D((1,1),input_shape=(224,224, 3)))\n",
    "model.add(Convolution2D(64, (3, 3), activation='relu'))\n",
    "model.add(ZeroPadding2D((1,1)))\n",
    "model.add(Convolution2D(64, (3, 3), activation='relu'))\n",
    "model.add(MaxPooling2D((2,2), strides=(2,2)))\n",
    "\n",
    "model.add(ZeroPadding2D((1,1)))\n",
    "model.add(Convolution2D(128, (3, 3), activation='relu'))\n",
    "model.add(ZeroPadding2D((1,1)))\n",
    "model.add(Convolution2D(128, (3, 3), activation='relu'))\n",
    "model.add(MaxPooling2D((2,2), strides=(2,2)))\n",
    "\n",
    "model.add(ZeroPadding2D((1,1)))\n",
    "model.add(Convolution2D(256, (3, 3), activation='relu'))\n",
    "model.add(ZeroPadding2D((1,1)))\n",
    "model.add(Convolution2D(256, (3, 3), activation='relu'))\n",
    "model.add(ZeroPadding2D((1,1)))\n",
    "model.add(Convolution2D(256, (3, 3), activation='relu'))\n",
    "model.add(MaxPooling2D((2,2), strides=(2,2)))\n",
    "\n",
    "model.add(ZeroPadding2D((1,1)))\n",
    "model.add(Convolution2D(512, (3, 3), activation='relu'))\n",
    "model.add(ZeroPadding2D((1,1)))\n",
    "model.add(Convolution2D(512, (3, 3), activation='relu'))\n",
    "model.add(ZeroPadding2D((1,1)))\n",
    "model.add(Convolution2D(512, (3, 3), activation='relu'))\n",
    "model.add(MaxPooling2D((2,2), strides=(2,2)))\n",
    "\n",
    "model.add(ZeroPadding2D((1,1)))\n",
    "model.add(Convolution2D(512, (3, 3), activation='relu'))\n",
    "model.add(ZeroPadding2D((1,1)))\n",
    "model.add(Convolution2D(512, (3, 3), activation='relu'))\n",
    "model.add(ZeroPadding2D((1,1)))\n",
    "model.add(Convolution2D(512, (3, 3), activation='relu'))\n",
    "model.add(MaxPooling2D((2,2), strides=(2,2)))\n",
    "\n",
    "model.add(Convolution2D(4096, (7, 7), activation='relu'))\n",
    "model.add(Dropout(0.5))\n",
    "model.add(Convolution2D(4096, (1, 1), activation='relu'))\n",
    "model.add(Dropout(0.5))\n",
    "model.add(Convolution2D(2622, (1, 1)))\n",
    "model.add(Flatten())\n",
    "model.add(Activation('softmax'))\n",
    "import warnings"
   ]
  },
  {
   "cell_type": "code",
   "execution_count": 20,
   "metadata": {},
   "outputs": [],
   "source": [
    "from keras.models import model_from_json\n",
    "model.load_weights(\"D:\\\\opencv\\\\vgg_face_weights.h5\")\n",
    "import warnings\n",
    "warnings.filterwarnings('ignore')"
   ]
  },
  {
   "cell_type": "code",
   "execution_count": 21,
   "metadata": {},
   "outputs": [],
   "source": [
    "def preprocess_image(image_path):\n",
    "    img = load_img(image_path, target_size=(224,224))\n",
    "    img = img_to_array(img)\n",
    "    img = np.expand_dims(img, axis=0)\n",
    "    img = preprocess_input(img)\n",
    "    return img\n"
   ]
  },
  {
   "cell_type": "code",
   "execution_count": 22,
   "metadata": {},
   "outputs": [],
   "source": [
    "vgg_face_descriptor= Model(inputs=model.layers[0].input, outputs=model.layers[-2].output)\n"
   ]
  },
  {
   "cell_type": "code",
   "execution_count": 23,
   "metadata": {},
   "outputs": [],
   "source": [
    "pictures = 'D:\\opencv\\mytrain'\n"
   ]
  },
  {
   "cell_type": "code",
   "execution_count": 24,
   "metadata": {},
   "outputs": [
    {
     "data": {
      "text/plain": [
       "'D:\\\\opencv\\\\mytrain'"
      ]
     },
     "execution_count": 24,
     "metadata": {},
     "output_type": "execute_result"
    }
   ],
   "source": [
    "pictures"
   ]
  },
  {
   "cell_type": "code",
   "execution_count": 25,
   "metadata": {},
   "outputs": [
    {
     "name": "stdout",
     "output_type": "stream",
     "text": [
      "Person representations retrieved successfully\n"
     ]
    }
   ],
   "source": [
    "persons = dict()\n",
    "for file in os.listdir(pictures):\n",
    "    person,extension=file.split(\".\")\n",
    "    persons[person]=vgg_face_descriptor.predict(preprocess_image('D:\\\\opencv\\\\mytrain\\\\%s.jpg' % (person)))[0,:] \n",
    "\n",
    "print(\"Person representations retrieved successfully\")\n",
    "    \n",
    "    \n",
    "    "
   ]
  },
  {
   "cell_type": "code",
   "execution_count": 27,
   "metadata": {},
   "outputs": [
    {
     "data": {
      "text/plain": [
       "{'Umme Abiha': array([ 1.7678066,  1.2276037,  2.5623727, ..., -0.663687 ,  2.2818985,\n",
       "         3.6147711], dtype=float32),\n",
       " 'Zeeshan': array([ 3.964807  ,  0.68620896,  2.7586315 , ..., -3.694783  ,\n",
       "        -0.21577698,  2.8295236 ], dtype=float32)}"
      ]
     },
     "execution_count": 27,
     "metadata": {},
     "output_type": "execute_result"
    }
   ],
   "source": [
    "persons"
   ]
  },
  {
   "cell_type": "code",
   "execution_count": 28,
   "metadata": {},
   "outputs": [
    {
     "data": {
      "text/plain": [
       "'jpg'"
      ]
     },
     "execution_count": 28,
     "metadata": {},
     "output_type": "execute_result"
    }
   ],
   "source": [
    "extension"
   ]
  },
  {
   "cell_type": "code",
   "execution_count": 29,
   "metadata": {},
   "outputs": [],
   "source": [
    "def findCosineSimilarity(train,test):\n",
    "    a=np.matmul(np.transpose(train), test)\n",
    "    b=np.sum(np.multiply(train, train))\n",
    "    c=np.sum(np.multiply(test,test))\n",
    "    return 1-(a/np.sqrt(b)*np.sqrt(c))"
   ]
  },
  {
   "cell_type": "code",
   "execution_count": 30,
   "metadata": {},
   "outputs": [],
   "source": [
    "from mtcnn.mtcnn import MTCNN\n",
    "detector = MTCNN()\n"
   ]
  },
  {
   "cell_type": "code",
   "execution_count": 31,
   "metadata": {},
   "outputs": [],
   "source": [
    "from datetime import datetime\n",
    "# Capture time duration of faces detected\n",
    "facefound=[]\n",
    "ts=[0,0,False, 'Anonymus']\n"
   ]
  },
  {
   "cell_type": "code",
   "execution_count": 34,
   "metadata": {},
   "outputs": [
    {
     "name": "stdout",
     "output_type": "stream",
     "text": [
      "-3338.06494140625\n",
      "-3402.207275390625\n",
      "-3533.8193359375\n",
      "-6368.2392578125\n",
      "-5741.29931640625\n",
      "-6993.1953125\n",
      "-5348.5458984375\n",
      "-6309.7783203125\n",
      "-4068.650146484375\n"
     ]
    }
   ],
   "source": [
    "vc= cv2.VideoCapture(0)\n",
    "while True:\n",
    "    _,img=vc.read()\n",
    "    result=detector.detect_faces(img)\n",
    "    # in the result we will have multiple number of dictionaries for each image, and we need to extract the bounding box of the face.      \n",
    "    if len(result):\n",
    "        if ts[2] == False:\n",
    "            ts[0] = datetime.now()\n",
    "            ts[2] = True\n",
    "        for i in range (len(result)):\n",
    "            (startx, starty, endx, endy)=(result[i]['box'][0], result[i]['box'][1], result[i][\"box\"][0]+result[i][\"box\"][2], result[i][\"box\"][1] + result[i][\"box\"][3])\n",
    "            confidence = result[i]['confidence']\n",
    "            if (confidence > 0.5):\n",
    "                cv2.rectangle(img, (startx, starty), (endx,endy), (0,255,0), 2)\n",
    "                if (starty>=0) and (endy>=0) and (startx>=0) and (endy>=0):\n",
    "                    frame_face = img[starty:endy, startx:endx]\n",
    "                    frame_face=cv2.resize(frame_face,(224,224))\n",
    "            crop_img= img_to_array(frame_face)\n",
    "            crop_img= np.expand_dims(crop_img, axis=0)\n",
    "            crop_img= preprocess_input(crop_img)\n",
    "            test=vgg_face_descriptor.predict(crop_img)[0,:]  \n",
    "        \n",
    "        fonud=0\n",
    "        for i in persons:\n",
    "            train = persons[i]\n",
    "            label_name=i\n",
    "            \n",
    "            similarity = findCosineSimilarity(train,test)\n",
    "            print(similarity)\n",
    "\n",
    "            if(similarity < 0.80):\n",
    "                cv2.rectangle(img, (startx, starty), (endx, endy), (0,255,0), 2)\n",
    "                img = cv2.putText(img, label_name , (startx, starty), cv2.FONT_HERSHEY_SIMPLEX, 1, (140, 50, 255), 2, cv2.LINE_AA)\n",
    "                ts[3] = label_name\n",
    "                found=1\n",
    "                break\n",
    "        if(found == 0):\n",
    "            img=cv2.putText(img,'Unknown',(startX,startY),cv2.FONT_HERSHEY_SIMPLEX,1,(255,0,255),2,cv2.LINE_AA)\n",
    "            ts[3] = 'Unknown'\n",
    "        \n",
    "    else:\n",
    "        if ts[2] == True:\n",
    "            ts[1] = datetime.now()\n",
    "            ts[2] = False\n",
    "            diff = ts[1]-ts[0]\n",
    "            if diff.seconds!=0:\n",
    "                facefound.append((ts[3], diff.seconds+1, ts[0].strftime(\"%m/%d/%Y %H:%M:%S\"), ts[1].strftime(\"%m/%d/%Y %H:%M:%S\")))\n",
    "    cv2.imshow('video',img)\n",
    "    if cv2.waitKey(1)==27:\n",
    "        break\n",
    "vc.release()\n",
    "cv2.destroyAllWindows()\n",
    "            \n",
    "\n",
    "\n"
   ]
  },
  {
   "cell_type": "code",
   "execution_count": 33,
   "metadata": {},
   "outputs": [
    {
     "name": "stdout",
     "output_type": "stream",
     "text": [
      "-3982.4794921875\n",
      "-4657.72314453125\n",
      "-3805.789794921875\n"
     ]
    }
   ],
   "source": [
    "#url = \"https://www.youtube.com/watch?v=tP3lTtXhjoQ\"\n",
    "#videoPafy = pafy.new(url)\n",
    "#best = videoPafy.getbest()\n",
    "\n",
    "#vc=cv2.VideoCapture(best.url)\n",
    "vc=cv2.VideoCapture(0)\n",
    "while True:\n",
    "    _,img=vc.read()\n",
    "    result=detector.detect_faces(img)\n",
    "    # in the result we will have multiple number of dictionaries for each image, and we need to extract the bounding box of the face.      \n",
    "    if len(result):\n",
    "        if ts[2] == False:\n",
    "            ts[0] = datetime.now()\n",
    "            ts[2] = True\n",
    "        for i in range (len(result)):\n",
    "            (startx, starty, endx, endy)=(result[i]['box'][0], result[i]['box'][1], result[i][\"box\"][0]+result[i][\"box\"][2], result[i][\"box\"][1] + result[i][\"box\"][3])\n",
    "            confidence = result[i]['confidence']\n",
    "            if (confidence > 0.5):\n",
    "                cv2.rectangle(img, (startx, starty), (endx,endy), (0,255,0), 2)\n",
    "                if (starty>=0) and (endy>=0) and (startx>=0) and (endy>=0):\n",
    "                    frame_face = img[starty:endy, startx:endx]\n",
    "                    frame_face=cv2.resize(frame_face,(224,224))\n",
    "            crop_img= img_to_array(frame_face)\n",
    "            crop_img= np.expand_dims(crop_img, axis=0)\n",
    "            crop_img= preprocess_input(crop_img)\n",
    "            test=vgg_face_descriptor.predict(crop_img)[0,:]  \n",
    "        \n",
    "            found = 0\n",
    "            for i in persons:\n",
    "                label_name=i\n",
    "                train = persons[i]\n",
    "                similarity = findCosineSimilarity(train,test)\n",
    "                print(similarity)\n",
    "\n",
    "                if(similarity < 0.4):\n",
    "                    #cv2.rectangle(img, (startx, starty), (endx, endy), (0,255,0), 2)\n",
    "                    #img = \n",
    "                    cv2.putText(img, label_name, (startx, starty), cv2.FONT_HERSHEY_SIMPLEX, 1, (140, 50, 255), 2, cv2.LINE_AA)\n",
    "                    ts[3] = label_name\n",
    "                    found =1 \n",
    "                    break\n",
    "            if (found==0):\n",
    "                img=cv2.putText(img,'Unknown',(startX,startY),cv2.FONT_HERSHEY_SIMPLEX,1,(255,0,255),2,cv2.LINE_AA)\n",
    "                ts[3] = 'Unknown'\n",
    "    else:\n",
    "        if ts[2] == True:\n",
    "            ts[1] = datetime.now()\n",
    "            ts[2] = False\n",
    "            diff = ts[1]-ts[0]\n",
    "            if diff.seconds!=0:\n",
    "                facefound.append((ts[3], diff.seconds+1, ts[0].strftime(\"%m/%d/%Y %H:%M:%S\"), ts[1].strftime(\"%m/%d/%Y %H:%M:%S\")))\n",
    "    cv2.imshow('video',img)\n",
    "    if cv2.waitKey(1)==27:\n",
    "        break\n",
    "vc.release()\n",
    "cv2.destroyAllWindows()\n",
    "            \n",
    "\n",
    "\n"
   ]
  },
  {
   "cell_type": "code",
   "execution_count": 19,
   "metadata": {},
   "outputs": [
    {
     "data": {
      "text/plain": [
       "[('Umme Abiha', 94, '01/22/2020 05:00:55', '01/22/2020 05:02:28'),\n",
       " ('Umme Abiha', 2902, '01/22/2020 05:02:28', '01/22/2020 05:50:50')]"
      ]
     },
     "execution_count": 19,
     "metadata": {},
     "output_type": "execute_result"
    }
   ],
   "source": [
    "facefound"
   ]
  },
  {
   "cell_type": "code",
   "execution_count": 66,
   "metadata": {},
   "outputs": [
    {
     "data": {
      "text/plain": [
       "datetime.datetime(2020, 1, 20, 6, 8, 46, 298606)"
      ]
     },
     "execution_count": 66,
     "metadata": {},
     "output_type": "execute_result"
    }
   ],
   "source": [
    "datetime.now()"
   ]
  },
  {
   "cell_type": "code",
   "execution_count": 82,
   "metadata": {},
   "outputs": [
    {
     "data": {
      "text/plain": [
       "True"
      ]
     },
     "execution_count": 82,
     "metadata": {},
     "output_type": "execute_result"
    }
   ],
   "source": [
    "ts[2]"
   ]
  },
  {
   "cell_type": "code",
   "execution_count": 85,
   "metadata": {},
   "outputs": [
    {
     "name": "stdout",
     "output_type": "stream",
     "text": [
      "Collecting pafy\n",
      "  Downloading https://files.pythonhosted.org/packages/74/69/829919eeadff695338f98fa12bb99e45490761a2010c8d688d88b6df194a/pafy-0.5.5-py2.py3-none-any.whl\n",
      "Installing collected packages: pafy\n",
      "Successfully installed pafy-0.5.5\n",
      "Note: you may need to restart the kernel to use updated packages.\n"
     ]
    }
   ],
   "source": [
    "pip install pafy"
   ]
  },
  {
   "cell_type": "code",
   "execution_count": 83,
   "metadata": {},
   "outputs": [
    {
     "data": {
      "text/plain": [
       "datetime.datetime(2020, 1, 20, 6, 22, 12, 193174)"
      ]
     },
     "execution_count": 83,
     "metadata": {},
     "output_type": "execute_result"
    }
   ],
   "source": [
    "ts[1]"
   ]
  },
  {
   "cell_type": "code",
   "execution_count": 84,
   "metadata": {},
   "outputs": [
    {
     "data": {
      "text/plain": [
       "datetime.datetime(2020, 1, 20, 6, 22, 12, 941948)"
      ]
     },
     "execution_count": 84,
     "metadata": {},
     "output_type": "execute_result"
    }
   ],
   "source": [
    "ts[0]"
   ]
  },
  {
   "cell_type": "code",
   "execution_count": null,
   "metadata": {},
   "outputs": [],
   "source": [
    "xx"
   ]
  }
 ],
 "metadata": {
  "kernelspec": {
   "display_name": "Python 3",
   "language": "python",
   "name": "python3"
  },
  "language_info": {
   "codemirror_mode": {
    "name": "ipython",
    "version": 3
   },
   "file_extension": ".py",
   "mimetype": "text/x-python",
   "name": "python",
   "nbconvert_exporter": "python",
   "pygments_lexer": "ipython3",
   "version": "3.7.3"
  }
 },
 "nbformat": 4,
 "nbformat_minor": 2
}
