{
 "cells": [
  {
   "cell_type": "code",
   "execution_count": 1,
   "metadata": {},
   "outputs": [
    {
     "name": "stderr",
     "output_type": "stream",
     "text": [
      "Using TensorFlow backend.\n"
     ]
    }
   ],
   "source": [
    "from keras.models import Model, Sequential\n",
    "from keras.layers import Input, Convolution2D, ZeroPadding2D, MaxPooling2D, Flatten, Dense, Dropout, Activation\n",
    "from PIL import Image\n",
    "import numpy as np\n",
    "from keras.preprocessing.image import load_img, save_img, img_to_array\n",
    "from keras.applications.vgg16 import preprocess_input\n",
    "from keras.preprocessing import image\n",
    "import matplotlib.pyplot as plt\n",
    "import os\n"
   ]
  },
  {
   "cell_type": "code",
   "execution_count": 2,
   "metadata": {},
   "outputs": [],
   "source": [
    "def loadVggFaceModel():\n",
    "    model = Sequential()\n",
    "    model.add(ZeroPadding2D((1,1),input_shape=(224,224, 3)))\n",
    "    model.add(Convolution2D(64, (3, 3), activation='relu'))\n",
    "    model.add(ZeroPadding2D((1,1)))\n",
    "    model.add(Convolution2D(64, (3, 3), activation='relu'))\n",
    "    model.add(MaxPooling2D((2,2), strides=(2,2)))\n",
    "\n",
    "    model.add(ZeroPadding2D((1,1)))\n",
    "    model.add(Convolution2D(128, (3, 3), activation='relu'))\n",
    "    model.add(ZeroPadding2D((1,1)))\n",
    "    model.add(Convolution2D(128, (3, 3), activation='relu'))\n",
    "    model.add(MaxPooling2D((2,2), strides=(2,2)))\n",
    "\n",
    "    model.add(ZeroPadding2D((1,1)))\n",
    "    model.add(Convolution2D(256, (3, 3), activation='relu'))\n",
    "    model.add(ZeroPadding2D((1,1)))\n",
    "    model.add(Convolution2D(256, (3, 3), activation='relu'))\n",
    "    model.add(ZeroPadding2D((1,1)))\n",
    "    model.add(Convolution2D(256, (3, 3), activation='relu'))\n",
    "    model.add(MaxPooling2D((2,2), strides=(2,2)))\n",
    "\n",
    "    model.add(ZeroPadding2D((1,1)))\n",
    "    model.add(Convolution2D(512, (3, 3), activation='relu'))\n",
    "    model.add(ZeroPadding2D((1,1)))\n",
    "    model.add(Convolution2D(512, (3, 3), activation='relu'))\n",
    "    model.add(ZeroPadding2D((1,1)))\n",
    "    model.add(Convolution2D(512, (3, 3), activation='relu'))\n",
    "    model.add(MaxPooling2D((2,2), strides=(2,2)))\n",
    "\n",
    "    model.add(ZeroPadding2D((1,1)))\n",
    "    model.add(Convolution2D(512, (3, 3), activation='relu'))\n",
    "    model.add(ZeroPadding2D((1,1)))\n",
    "    model.add(Convolution2D(512, (3, 3), activation='relu'))\n",
    "    model.add(ZeroPadding2D((1,1)))\n",
    "    model.add(Convolution2D(512, (3, 3), activation='relu'))\n",
    "    model.add(MaxPooling2D((2,2), strides=(2,2)))\n",
    "\n",
    "    model.add(Convolution2D(4096, (7, 7), activation='relu'))\n",
    "    model.add(Dropout(0.5))\n",
    "    model.add(Convolution2D(4096, (1, 1), activation='relu'))\n",
    "    model.add(Dropout(0.5))\n",
    "    model.add(Convolution2D(2622, (1, 1)))\n",
    "    model.add(Flatten())\n",
    "    model.add(Activation('softmax'))\n",
    "    \n",
    "    #you can download pretrained weights from https://drive.google.com/file/d/1CPSeum3HpopfomUEK1gybeuIVoeJT_Eo/view?usp=sharing\n",
    "    from keras.models import model_from_json\n",
    "    model.load_weights('D:\\\\opencv\\\\vgg_face_weights.h5')\n",
    "\n",
    "    vgg_face_descriptor = Model(inputs=model.layers[0].input, outputs=model.layers[-2].output)\n",
    "\n",
    "    return vgg_face_descriptor"
   ]
  },
  {
   "cell_type": "code",
   "execution_count": 5,
   "metadata": {},
   "outputs": [],
   "source": [
    "#from keras.models import model_from_json\n",
    "#model.load_weights('vgg_face_weights.h5')"
   ]
  },
  {
   "cell_type": "code",
   "execution_count": 15,
   "metadata": {},
   "outputs": [],
   "source": [
    "def preprocess_image(image_path):\n",
    "    img = load_img(image_path, target_size=(224, 224))\n",
    "    img = img_to_array(img)\n",
    "    img = np.expand_dims(img, axis=0)\n",
    "    img = preprocess_input(img)\n",
    "    return img"
   ]
  },
  {
   "cell_type": "code",
   "execution_count": 16,
   "metadata": {},
   "outputs": [],
   "source": [
    "#vgg_face_descriptor = Model(inputs=model.layers[0].input, outputs=model.layers[-2].output)\n",
    "model = loadVggFaceModel()"
   ]
  },
  {
   "cell_type": "markdown",
   "metadata": {},
   "source": [
    "D:\\MySQL\\image\\celebs\\oneshot\\Naved"
   ]
  },
  {
   "cell_type": "markdown",
   "metadata": {},
   "source": [
    "D:\\MySQL\\image\\celebs\\oneshot\\youtube"
   ]
  },
  {
   "cell_type": "code",
   "execution_count": 28,
   "metadata": {},
   "outputs": [],
   "source": [
    "images_path=\"D:\\opencv\\mytrain\"\n",
    "#images_path = input('Please Enter the inpur images path here: ')"
   ]
  },
  {
   "cell_type": "code",
   "execution_count": 43,
   "metadata": {
    "scrolled": true
   },
   "outputs": [
    {
     "name": "stdout",
     "output_type": "stream",
     "text": [
      "person representations retrieved successfully\n"
     ]
    }
   ],
   "source": [
    "persons = dict()\n",
    "for file in os.listdir(images_path):\n",
    "    person, extension = file.split(\".\")\n",
    "    persons[person] = model.predict(preprocess_image(images_path+'\\\\%s.jpg' % (person)))[0,:]\n",
    "\n",
    "print(\"person representations retrieved successfully\")"
   ]
  },
  {
   "cell_type": "code",
   "execution_count": 10,
   "metadata": {},
   "outputs": [
    {
     "data": {
      "text/plain": [
       "{'brie-bella': array([ 0.84590286,  0.38028142, -0.7833354 , ..., -2.6286552 ,\n",
       "         4.143331  ,  5.380468  ], dtype=float32),\n",
       " 'john-cena': array([ 1.80578   ,  1.8977877 ,  1.5921415 , ..., -1.3900007 ,\n",
       "         0.93731743,  0.72538507], dtype=float32),\n",
       " 'Naved': array([ 3.093127 , -1.8535037,  2.2926617, ..., -1.9257551,  0.6774547,\n",
       "         2.4546793], dtype=float32),\n",
       " 'nikki-bella': array([ 1.4286156 ,  1.743996  ,  0.62954396, ..., -2.261119  ,\n",
       "         3.909839  ,  1.270261  ], dtype=float32),\n",
       " 'Zeeshan': array([ 3.9513829 ,  0.63402843,  2.757927  , ..., -3.6950517 ,\n",
       "        -0.21905148,  2.8291266 ], dtype=float32)}"
      ]
     },
     "execution_count": 10,
     "metadata": {},
     "output_type": "execute_result"
    }
   ],
   "source": [
    "persons"
   ]
  },
  {
   "cell_type": "code",
   "execution_count": 44,
   "metadata": {},
   "outputs": [],
   "source": [
    "def findCosineSimilarity(train, test):\n",
    "    a = np.matmul(np.transpose(train), test)\n",
    "    b = np.sum(np.multiply(train, train))\n",
    "    c = np.sum(np.multiply(test, test))\n",
    "    return 1 - (a / (np.sqrt(b) * np.sqrt(c)))"
   ]
  },
  {
   "cell_type": "code",
   "execution_count": 45,
   "metadata": {},
   "outputs": [],
   "source": [
    "def findEuclideanDistance(train, test):\n",
    "    euclidean_distance = train - test\n",
    "    euclidean_distance = np.sum(np.multiply(euclidean_distance, euclidean_distance))\n",
    "    euclidean_distance = np.sqrt(euclidean_distance)\n",
    "    return euclidean_distance"
   ]
  },
  {
   "cell_type": "code",
   "execution_count": 46,
   "metadata": {},
   "outputs": [],
   "source": [
    "import cv2\n",
    "from mtcnn.mtcnn import MTCNN\n",
    "detector=MTCNN()"
   ]
  },
  {
   "cell_type": "code",
   "execution_count": 22,
   "metadata": {},
   "outputs": [],
   "source": [
    "import urllib\n",
    "from urllib import request as ur"
   ]
  },
  {
   "cell_type": "code",
   "execution_count": 47,
   "metadata": {},
   "outputs": [],
   "source": [
    "from datetime import datetime\n",
    "# Capture time duration of faces detected\n",
    "faceFound = []\n",
    "ts = [0,0,False,' ']"
   ]
  },
  {
   "cell_type": "code",
   "execution_count": 52,
   "metadata": {},
   "outputs": [
    {
     "name": "stdout",
     "output_type": "stream",
     "text": [
      "0.2646239399909973\n"
     ]
    }
   ],
   "source": [
    "import cv2, pafy\n",
    "import numpy as np\n",
    "#for youtube live video\n",
    "#url = \"https://www.youtube.com/watch?v=m_L51YSa9aw\"\n",
    "#url = \"https://www.youtube.com/watch?v=X3lYFAyyesI\"\n",
    "#videoPafy = pafy.new(url)\n",
    "#best = videoPafy.getbest()\n",
    "\n",
    "#cap=cv2.VideoCapture(best.url)\n",
    "\n",
    "from threading import Thread, Lock\n",
    "import cv2\n",
    "import numpy as np\n",
    "class VideoStream :\n",
    "    def __init__(self, src = \"nikki-john.mp4\", width = 320, height = 240) :\n",
    "        self.stream = cv2.VideoCapture(src)\n",
    "        (self.grabbed, self.frame) = self.stream.read()\n",
    "        self.started = False\n",
    "        self.read_lock = Lock()\n",
    "\n",
    "    def start(self) :\n",
    "        if self.started :\n",
    "            print (\"already started!!\")\n",
    "            return None\n",
    "        self.started = True\n",
    "        self.thread = Thread(target=self.update, args=())\n",
    "        self.thread.start()\n",
    "        return self\n",
    "\n",
    "    def update(self) :\n",
    "        while self.started :\n",
    "            (grabbed, frame) = self.stream.read()\n",
    "            self.read_lock.acquire()\n",
    "            self.grabbed, self.frame = grabbed, frame\n",
    "            self.read_lock.release()\n",
    "\n",
    "    def read(self) :\n",
    "        if  self.grabbed==True:\n",
    "            self.read_lock.acquire()\n",
    "            frame = self.frame.copy()\n",
    "            self.read_lock.release()\n",
    "            return frame\n",
    "\n",
    "    def stop(self) :\n",
    "        self.started = False\n",
    "        self.thread.join()\n",
    "        self.closestream()\n",
    "\n",
    "    def closestream(self) :\n",
    "        self.stream.release()\n",
    "        print(\"stream closed\")\n",
    "\n",
    "cap=VideoStream().start()\n",
    "#for webcam\n",
    "#cap=cv2.VideoCapture(\"nikki-john.mp4\")\n",
    "\n",
    "\n",
    "while True:\n",
    "    img=cap.read()\n",
    "    if np.sum(img)== None:\n",
    "        break\n",
    "\n",
    "    result=detector.detect_faces(img)\n",
    "# in the result we will have multiple number of dictionaries for each image, and we need to extract the bounding box of the face.      \n",
    "    if len(result):\n",
    "        if ts[2] == False:\n",
    "            ts[0] = datetime.now()\n",
    "            ts[2] = True\n",
    "        for i in range(len(result)):\n",
    "            (startX,startY,endX,endY)=(result[i][\"box\"][0], result[i][\"box\"][1],result[i][\"box\"][0]+result[i][\"box\"][2], result[i][\"box\"][1] + result[i][\"box\"][3])\n",
    "            confidence = result[i][\"confidence\"]\n",
    "            if (confidence > 0.5):\n",
    "                cv2.rectangle(img, (startX, startY), (endX, endY), (0, 255, 0), 2)\n",
    "                if (startY >=0) and (endY >=0) and (startX >=0) and (endX >=0):\n",
    "                    frame_face = img[startY:endY, startX:endX]\n",
    "                    frame_face=cv2.resize(frame_face,(224,224))\n",
    "            crop_img=img_to_array(frame_face)\n",
    "            crop_img=np.expand_dims(crop_img,axis=0)\n",
    "            crop_img=preprocess_input(crop_img)\n",
    "            test=model.predict(crop_img)[0,:]  \n",
    "            \n",
    "            found = 0\n",
    "            for i in persons:\n",
    "                label_name = i\n",
    "                train = persons[i]\n",
    "                #similarity = findEuclideanDistance(train,test)\n",
    "                similarity = findCosineSimilarity(train, test)\n",
    "                print(similarity)\n",
    "                #if(similarity < 100):\n",
    "                if(similarity < 0.4):\n",
    "                    #cv2.rectangle(img, (startX, startY), (endX, endY), (0, 255, 0), 2)\n",
    "                    img=cv2.putText(img,label_name,(startX,startY),cv2.FONT_HERSHEY_SIMPLEX,1,(255,0,255),2,cv2.LINE_AA)\n",
    "                    #img=cv2.putText(img,str(np.max(person)),(x2,y2+10),cv2.FONT_HERSHEY_SIMPLEX,0.5,(0,0,255),1,cv2.LINE_AA)\\\n",
    "                    ts[3] = label_name\n",
    "                    found=1\n",
    "                    break\n",
    "\n",
    "            if (found==0):\n",
    "                img=cv2.putText(img,'Unknown',(startX,startY),cv2.FONT_HERSHEY_SIMPLEX,1,(255,0,255),2,cv2.LINE_AA)\n",
    "                ts[3] = 'Unknown'\n",
    "            #cv2.imshow('Video',img)\n",
    "            \n",
    "    else:\n",
    "        if ts[2] == True:\n",
    "            ts[1] = datetime.now()\n",
    "            ts[2] = False\n",
    "            diff = ts[1]-ts[0]\n",
    "            if diff.seconds!=0:\n",
    "                faceFound.append((ts[3], diff.seconds+1, ts[0].strftime(\"%m/%d/%Y %H:%M:%S\"), ts[1].strftime(\"%m/%d/%Y %H:%M:%S\")))\n",
    "        \n",
    "    cv2.imshow('video',img)\n",
    "    if cv2.waitKey(1)==27:\n",
    "        break\n",
    "#cap.release()\n",
    "cv2.destroyAllWindows()\n",
    "            "
   ]
  },
  {
   "cell_type": "code",
   "execution_count": 51,
   "metadata": {},
   "outputs": [
    {
     "data": {
      "text/plain": [
       "[]"
      ]
     },
     "execution_count": 51,
     "metadata": {},
     "output_type": "execute_result"
    }
   ],
   "source": [
    "faceFound"
   ]
  },
  {
   "cell_type": "code",
   "execution_count": 24,
   "metadata": {},
   "outputs": [],
   "source": [
    "import pandas as pd\n",
    "time_log=pd.DataFrame(faceFound,columns = ('Person Name','total time(sec)','entry time','exit time'))"
   ]
  },
  {
   "cell_type": "code",
   "execution_count": 25,
   "metadata": {},
   "outputs": [
    {
     "data": {
      "text/html": [
       "<div>\n",
       "<style scoped>\n",
       "    .dataframe tbody tr th:only-of-type {\n",
       "        vertical-align: middle;\n",
       "    }\n",
       "\n",
       "    .dataframe tbody tr th {\n",
       "        vertical-align: top;\n",
       "    }\n",
       "\n",
       "    .dataframe thead th {\n",
       "        text-align: right;\n",
       "    }\n",
       "</style>\n",
       "<table border=\"1\" class=\"dataframe\">\n",
       "  <thead>\n",
       "    <tr style=\"text-align: right;\">\n",
       "      <th></th>\n",
       "      <th>Person Name</th>\n",
       "      <th>total time(sec)</th>\n",
       "      <th>entry time</th>\n",
       "      <th>exit time</th>\n",
       "    </tr>\n",
       "  </thead>\n",
       "  <tbody>\n",
       "    <tr>\n",
       "      <th>0</th>\n",
       "      <td>Unknown</td>\n",
       "      <td>35</td>\n",
       "      <td>01/26/2020 00:16:28</td>\n",
       "      <td>01/26/2020 00:17:02</td>\n",
       "    </tr>\n",
       "    <tr>\n",
       "      <th>1</th>\n",
       "      <td>Unknown</td>\n",
       "      <td>238</td>\n",
       "      <td>01/26/2020 00:17:04</td>\n",
       "      <td>01/26/2020 00:21:01</td>\n",
       "    </tr>\n",
       "    <tr>\n",
       "      <th>2</th>\n",
       "      <td>john-cena</td>\n",
       "      <td>2</td>\n",
       "      <td>01/26/2020 00:21:03</td>\n",
       "      <td>01/26/2020 00:21:05</td>\n",
       "    </tr>\n",
       "    <tr>\n",
       "      <th>3</th>\n",
       "      <td>john-cena</td>\n",
       "      <td>3</td>\n",
       "      <td>01/26/2020 00:21:17</td>\n",
       "      <td>01/26/2020 00:21:20</td>\n",
       "    </tr>\n",
       "    <tr>\n",
       "      <th>4</th>\n",
       "      <td>john-cena</td>\n",
       "      <td>3</td>\n",
       "      <td>01/26/2020 00:21:21</td>\n",
       "      <td>01/26/2020 00:21:24</td>\n",
       "    </tr>\n",
       "    <tr>\n",
       "      <th>5</th>\n",
       "      <td>john-cena</td>\n",
       "      <td>10</td>\n",
       "      <td>01/26/2020 00:21:28</td>\n",
       "      <td>01/26/2020 00:21:38</td>\n",
       "    </tr>\n",
       "    <tr>\n",
       "      <th>6</th>\n",
       "      <td>john-cena</td>\n",
       "      <td>2</td>\n",
       "      <td>01/26/2020 00:21:39</td>\n",
       "      <td>01/26/2020 00:21:41</td>\n",
       "    </tr>\n",
       "    <tr>\n",
       "      <th>7</th>\n",
       "      <td>john-cena</td>\n",
       "      <td>2</td>\n",
       "      <td>01/26/2020 00:21:50</td>\n",
       "      <td>01/26/2020 00:21:52</td>\n",
       "    </tr>\n",
       "    <tr>\n",
       "      <th>8</th>\n",
       "      <td>john-cena</td>\n",
       "      <td>9</td>\n",
       "      <td>01/26/2020 00:21:56</td>\n",
       "      <td>01/26/2020 00:22:05</td>\n",
       "    </tr>\n",
       "    <tr>\n",
       "      <th>9</th>\n",
       "      <td>john-cena</td>\n",
       "      <td>2</td>\n",
       "      <td>01/26/2020 00:22:09</td>\n",
       "      <td>01/26/2020 00:22:11</td>\n",
       "    </tr>\n",
       "    <tr>\n",
       "      <th>10</th>\n",
       "      <td>john-cena</td>\n",
       "      <td>2</td>\n",
       "      <td>01/26/2020 00:22:13</td>\n",
       "      <td>01/26/2020 00:22:14</td>\n",
       "    </tr>\n",
       "    <tr>\n",
       "      <th>11</th>\n",
       "      <td>john-cena</td>\n",
       "      <td>2</td>\n",
       "      <td>01/26/2020 00:22:15</td>\n",
       "      <td>01/26/2020 00:22:17</td>\n",
       "    </tr>\n",
       "    <tr>\n",
       "      <th>12</th>\n",
       "      <td>Unknown</td>\n",
       "      <td>2</td>\n",
       "      <td>01/26/2020 00:22:18</td>\n",
       "      <td>01/26/2020 00:22:20</td>\n",
       "    </tr>\n",
       "    <tr>\n",
       "      <th>13</th>\n",
       "      <td>john-cena</td>\n",
       "      <td>22</td>\n",
       "      <td>01/26/2020 00:22:20</td>\n",
       "      <td>01/26/2020 00:22:41</td>\n",
       "    </tr>\n",
       "    <tr>\n",
       "      <th>14</th>\n",
       "      <td>john-cena</td>\n",
       "      <td>2</td>\n",
       "      <td>01/26/2020 00:22:47</td>\n",
       "      <td>01/26/2020 00:22:48</td>\n",
       "    </tr>\n",
       "    <tr>\n",
       "      <th>15</th>\n",
       "      <td>john-cena</td>\n",
       "      <td>6</td>\n",
       "      <td>01/26/2020 00:22:49</td>\n",
       "      <td>01/26/2020 00:22:54</td>\n",
       "    </tr>\n",
       "    <tr>\n",
       "      <th>16</th>\n",
       "      <td>john-cena</td>\n",
       "      <td>4</td>\n",
       "      <td>01/26/2020 00:22:58</td>\n",
       "      <td>01/26/2020 00:23:02</td>\n",
       "    </tr>\n",
       "  </tbody>\n",
       "</table>\n",
       "</div>"
      ],
      "text/plain": [
       "   Person Name  total time(sec)           entry time            exit time\n",
       "0      Unknown               35  01/26/2020 00:16:28  01/26/2020 00:17:02\n",
       "1      Unknown              238  01/26/2020 00:17:04  01/26/2020 00:21:01\n",
       "2    john-cena                2  01/26/2020 00:21:03  01/26/2020 00:21:05\n",
       "3    john-cena                3  01/26/2020 00:21:17  01/26/2020 00:21:20\n",
       "4    john-cena                3  01/26/2020 00:21:21  01/26/2020 00:21:24\n",
       "5    john-cena               10  01/26/2020 00:21:28  01/26/2020 00:21:38\n",
       "6    john-cena                2  01/26/2020 00:21:39  01/26/2020 00:21:41\n",
       "7    john-cena                2  01/26/2020 00:21:50  01/26/2020 00:21:52\n",
       "8    john-cena                9  01/26/2020 00:21:56  01/26/2020 00:22:05\n",
       "9    john-cena                2  01/26/2020 00:22:09  01/26/2020 00:22:11\n",
       "10   john-cena                2  01/26/2020 00:22:13  01/26/2020 00:22:14\n",
       "11   john-cena                2  01/26/2020 00:22:15  01/26/2020 00:22:17\n",
       "12     Unknown                2  01/26/2020 00:22:18  01/26/2020 00:22:20\n",
       "13   john-cena               22  01/26/2020 00:22:20  01/26/2020 00:22:41\n",
       "14   john-cena                2  01/26/2020 00:22:47  01/26/2020 00:22:48\n",
       "15   john-cena                6  01/26/2020 00:22:49  01/26/2020 00:22:54\n",
       "16   john-cena                4  01/26/2020 00:22:58  01/26/2020 00:23:02"
      ]
     },
     "execution_count": 25,
     "metadata": {},
     "output_type": "execute_result"
    }
   ],
   "source": [
    "time_log"
   ]
  },
  {
   "cell_type": "code",
   "execution_count": null,
   "metadata": {},
   "outputs": [],
   "source": []
  }
 ],
 "metadata": {
  "kernelspec": {
   "display_name": "Python 3",
   "language": "python",
   "name": "python3"
  },
  "language_info": {
   "codemirror_mode": {
    "name": "ipython",
    "version": 3
   },
   "file_extension": ".py",
   "mimetype": "text/x-python",
   "name": "python",
   "nbconvert_exporter": "python",
   "pygments_lexer": "ipython3",
   "version": "3.7.3"
  }
 },
 "nbformat": 4,
 "nbformat_minor": 2
}
