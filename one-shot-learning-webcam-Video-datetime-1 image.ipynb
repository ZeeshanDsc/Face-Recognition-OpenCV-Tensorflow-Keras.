{
 "cells": [
  {
   "cell_type": "code",
   "execution_count": 1,
   "metadata": {},
   "outputs": [
    {
     "name": "stderr",
     "output_type": "stream",
     "text": [
      "Using TensorFlow backend.\n"
     ]
    }
   ],
   "source": [
    "from keras.models import Model, Sequential\n",
    "from keras.layers import Input, Convolution2D, ZeroPadding2D, MaxPooling2D, Flatten, Dense, Dropout, Activation\n",
    "from PIL import Image\n",
    "import numpy as np\n",
    "from keras.preprocessing.image import load_img, save_img, img_to_array\n",
    "from keras.preprocessing import image\n",
    "import matplotlib.pyplot as plt\n",
    "import os\n",
    "from keras.applications.vgg16 import preprocess_input\n",
    "\n"
   ]
  },
  {
   "cell_type": "code",
   "execution_count": 2,
   "metadata": {},
   "outputs": [
    {
     "name": "stdout",
     "output_type": "stream",
     "text": [
      "WARNING:tensorflow:From C:\\Users\\Zeeshan\\AppData\\Local\\Continuum\\anaconda3\\lib\\site-packages\\keras\\backend\\tensorflow_backend.py:74: The name tf.get_default_graph is deprecated. Please use tf.compat.v1.get_default_graph instead.\n",
      "\n",
      "WARNING:tensorflow:From C:\\Users\\Zeeshan\\AppData\\Local\\Continuum\\anaconda3\\lib\\site-packages\\keras\\backend\\tensorflow_backend.py:517: The name tf.placeholder is deprecated. Please use tf.compat.v1.placeholder instead.\n",
      "\n",
      "WARNING:tensorflow:From C:\\Users\\Zeeshan\\AppData\\Local\\Continuum\\anaconda3\\lib\\site-packages\\keras\\backend\\tensorflow_backend.py:4138: The name tf.random_uniform is deprecated. Please use tf.random.uniform instead.\n",
      "\n",
      "WARNING:tensorflow:From C:\\Users\\Zeeshan\\AppData\\Local\\Continuum\\anaconda3\\lib\\site-packages\\keras\\backend\\tensorflow_backend.py:3976: The name tf.nn.max_pool is deprecated. Please use tf.nn.max_pool2d instead.\n",
      "\n",
      "WARNING:tensorflow:From C:\\Users\\Zeeshan\\AppData\\Local\\Continuum\\anaconda3\\lib\\site-packages\\keras\\backend\\tensorflow_backend.py:133: The name tf.placeholder_with_default is deprecated. Please use tf.compat.v1.placeholder_with_default instead.\n",
      "\n",
      "WARNING:tensorflow:From C:\\Users\\Zeeshan\\AppData\\Local\\Continuum\\anaconda3\\lib\\site-packages\\keras\\backend\\tensorflow_backend.py:3445: calling dropout (from tensorflow.python.ops.nn_ops) with keep_prob is deprecated and will be removed in a future version.\n",
      "Instructions for updating:\n",
      "Please use `rate` instead of `keep_prob`. Rate should be set to `rate = 1 - keep_prob`.\n"
     ]
    }
   ],
   "source": [
    "\n",
    "model = Sequential()\n",
    "model.add(ZeroPadding2D((1,1),input_shape=(224,224, 3)))\n",
    "model.add(Convolution2D(64, (3, 3), activation='relu'))\n",
    "model.add(ZeroPadding2D((1,1)))\n",
    "model.add(Convolution2D(64, (3, 3), activation='relu'))\n",
    "model.add(MaxPooling2D((2,2), strides=(2,2)))\n",
    "\n",
    "model.add(ZeroPadding2D((1,1)))\n",
    "model.add(Convolution2D(128, (3, 3), activation='relu'))\n",
    "model.add(ZeroPadding2D((1,1)))\n",
    "model.add(Convolution2D(128, (3, 3), activation='relu'))\n",
    "model.add(MaxPooling2D((2,2), strides=(2,2)))\n",
    "\n",
    "model.add(ZeroPadding2D((1,1)))\n",
    "model.add(Convolution2D(256, (3, 3), activation='relu'))\n",
    "model.add(ZeroPadding2D((1,1)))\n",
    "model.add(Convolution2D(256, (3, 3), activation='relu'))\n",
    "model.add(ZeroPadding2D((1,1)))\n",
    "model.add(Convolution2D(256, (3, 3), activation='relu'))\n",
    "model.add(MaxPooling2D((2,2), strides=(2,2)))\n",
    "\n",
    "model.add(ZeroPadding2D((1,1)))\n",
    "model.add(Convolution2D(512, (3, 3), activation='relu'))\n",
    "model.add(ZeroPadding2D((1,1)))\n",
    "model.add(Convolution2D(512, (3, 3), activation='relu'))\n",
    "model.add(ZeroPadding2D((1,1)))\n",
    "model.add(Convolution2D(512, (3, 3), activation='relu'))\n",
    "model.add(MaxPooling2D((2,2), strides=(2,2)))\n",
    "\n",
    "model.add(ZeroPadding2D((1,1)))\n",
    "model.add(Convolution2D(512, (3, 3), activation='relu'))\n",
    "model.add(ZeroPadding2D((1,1)))\n",
    "model.add(Convolution2D(512, (3, 3), activation='relu'))\n",
    "model.add(ZeroPadding2D((1,1)))\n",
    "model.add(Convolution2D(512, (3, 3), activation='relu'))\n",
    "model.add(MaxPooling2D((2,2), strides=(2,2)))\n",
    "\n",
    "model.add(Convolution2D(4096, (7, 7), activation='relu'))\n",
    "model.add(Dropout(0.5))\n",
    "model.add(Convolution2D(4096, (1, 1), activation='relu'))\n",
    "model.add(Dropout(0.5))\n",
    "model.add(Convolution2D(2622, (1, 1)))\n",
    "model.add(Flatten())\n",
    "model.add(Activation('softmax'))"
   ]
  },
  {
   "cell_type": "code",
   "execution_count": 3,
   "metadata": {},
   "outputs": [
    {
     "name": "stdout",
     "output_type": "stream",
     "text": [
      "WARNING:tensorflow:From C:\\Users\\Zeeshan\\AppData\\Local\\Continuum\\anaconda3\\lib\\site-packages\\keras\\backend\\tensorflow_backend.py:174: The name tf.get_default_session is deprecated. Please use tf.compat.v1.get_default_session instead.\n",
      "\n"
     ]
    }
   ],
   "source": [
    "from keras.models import model_from_json\n",
    "model.load_weights(\"D:\\\\opencv\\\\vgg_face_weights.h5\")"
   ]
  },
  {
   "cell_type": "code",
   "execution_count": 4,
   "metadata": {},
   "outputs": [],
   "source": [
    "def preprocess_image(image_path):\n",
    "    img = load_img(image_path, target_size=(224, 224))\n",
    "    img = img_to_array(img)\n",
    "    img = np.expand_dims(img, axis=0)\n",
    "    img = preprocess_input(img)\n",
    "    return img"
   ]
  },
  {
   "cell_type": "code",
   "execution_count": 5,
   "metadata": {},
   "outputs": [],
   "source": [
    "vgg_face_descriptor = Model(inputs=model.layers[0].input, outputs=model.layers[-2].output)"
   ]
  },
  {
   "cell_type": "code",
   "execution_count": 6,
   "metadata": {},
   "outputs": [],
   "source": [
    "pictures='D:\\opencv\\mytrain'"
   ]
  },
  {
   "cell_type": "code",
   "execution_count": 9,
   "metadata": {
    "scrolled": true
   },
   "outputs": [
    {
     "name": "stdout",
     "output_type": "stream",
     "text": [
      "person representations retrieved successfully\n"
     ]
    }
   ],
   "source": [
    "persons = dict()\n",
    "for file in os.listdir(pictures):\n",
    "    person, extension = file.split(\".\")\n",
    "    persons[person] = model.predict(preprocess_image('D:\\opencv\\mytrain\\\\%s.jpg' % (person)))[0,:]\n",
    "\n",
    "print(\"person representations retrieved successfully\")"
   ]
  },
  {
   "cell_type": "code",
   "execution_count": 10,
   "metadata": {},
   "outputs": [],
   "source": [
    "def findCosineSimilarity(train, test):\n",
    "    a = np.matmul(np.transpose(train), test)\n",
    "    b = np.sum(np.multiply(train, train))\n",
    "    c = np.sum(np.multiply(test, test))\n",
    "    return 1 - (a / (np.sqrt(b) * np.sqrt(c)))"
   ]
  },
  {
   "cell_type": "code",
   "execution_count": 11,
   "metadata": {},
   "outputs": [],
   "source": [
    "import cv2\n",
    "from mtcnn.mtcnn import MTCNN\n",
    "detector=MTCNN()"
   ]
  },
  {
   "cell_type": "code",
   "execution_count": 15,
   "metadata": {},
   "outputs": [],
   "source": [
    "from datetime import datetime\n",
    "# Capture time duration of faces detected\n",
    "faceFound = []\n",
    "ts = [0,0,False,'Unknown']"
   ]
  },
  {
   "cell_type": "code",
   "execution_count": 18,
   "metadata": {},
   "outputs": [
    {
     "name": "stdout",
     "output_type": "stream",
     "text": [
      "0.7272163331508636\n",
      "0.7348873615264893\n",
      "0.7881880104541779\n",
      "0.728541225194931\n",
      "0.7060526907444\n",
      "0.7305931448936462\n",
      "0.7357832491397858\n",
      "0.734407901763916\n",
      "0.7278142273426056\n",
      "0.7474820613861084\n"
     ]
    }
   ],
   "source": [
    "video_capture=cv2.VideoCapture(0)\n",
    "while True:\n",
    "    _,img=video_capture.read()\n",
    "\n",
    "    result=detector.detect_faces(img)\n",
    "# in the result we will have multiple number of dictionaries for each image, and we need to extract the bounding box of the face.      \n",
    "    if len(result):\n",
    "        if ts[2] == False:\n",
    "            ts[0] = datetime.now()\n",
    "            ts[2] = True\n",
    "        for i in range(len(result)):\n",
    "            (startX,startY,endX,endY)=(result[i][\"box\"][0], result[i][\"box\"][1],result[i][\"box\"][0]+result[i][\"box\"][2], result[i][\"box\"][1] + result[i][\"box\"][3])\n",
    "            confidence = result[i][\"confidence\"]\n",
    "            if (confidence > 0.5):\n",
    "                cv2.rectangle(img, (startX, startY), (endX, endY), (0, 255, 0), 2)\n",
    "                if (startY >=0) and (endY >=0) and (startX >=0) and (endX >=0):\n",
    "                    frame_face = img[startY:endY, startX:endX]\n",
    "                    frame_face=cv2.resize(frame_face,(224,224))\n",
    "            crop_img=img_to_array(frame_face)\n",
    "            crop_img=np.expand_dims(crop_img,axis=0)\n",
    "            crop_img=preprocess_input(crop_img)\n",
    "            test=vgg_face_descriptor.predict(crop_img)[0,:]  \n",
    "\n",
    "            for i in persons:\n",
    "                train = persons[i]\n",
    "            similarity = findCosineSimilarity(train, test)\n",
    "            print(similarity)\n",
    "            if(similarity < 0.76):\n",
    "                cv2.rectangle(img, (startX, startY), (endX, endY), (0, 255, 0), 2)\n",
    "                img=cv2.putText(img,'Naved',(startX,startY),cv2.FONT_HERSHEY_SIMPLEX,1,(255,0,255),2,cv2.LINE_AA)\n",
    "                #img=cv2.putText(img,str(np.max(person)),(x2,y2+10),cv2.FONT_HERSHEY_SIMPLEX,0.5,(0,0,255),1,cv2.LINE_AA)\\\n",
    "                ts[3] = 'Naved'\n",
    "\n",
    "            else:\n",
    "                img=cv2.putText(img,'Unknown',(startX,startY),cv2.FONT_HERSHEY_SIMPLEX,1,(255,0,255),2,cv2.LINE_AA)\n",
    "                ts[3] = 'Unknown'\n",
    "            \n",
    "    else:\n",
    "        if ts[2] == True:\n",
    "            ts[1] = datetime.now()\n",
    "            ts[2] = False\n",
    "            diff = ts[1]-ts[0]\n",
    "            if diff.seconds!=0:\n",
    "                faceFound.append((ts[3], diff.seconds+1, ts[0].strftime(\"%m/%d/%Y %H:%M:%S\"), ts[1].strftime(\"%m/%d/%Y %H:%M:%S\")))\n",
    "    cv2.imshow('video',img)\n",
    "    if cv2.waitKey(1)==27:\n",
    "        break\n",
    "video_capture.release()\n",
    "cv2.destroyAllWindows()\n",
    "            "
   ]
  },
  {
   "cell_type": "code",
   "execution_count": 22,
   "metadata": {},
   "outputs": [
    {
     "data": {
      "text/plain": [
       "[('Naved', 8, '01/17/2020 21:03:34', '01/17/2020 21:03:43'),\n",
       " ('Naved', 1, '01/17/2020 21:03:44', '01/17/2020 21:03:46'),\n",
       " ('Naved', 1, '01/17/2020 21:03:49', '01/17/2020 21:03:51'),\n",
       " ('Naved', 76, '01/17/2020 21:03:52', '01/17/2020 21:05:07'),\n",
       " ('Naved', 6, '01/17/2020 21:05:07', '01/17/2020 21:05:13')]"
      ]
     },
     "execution_count": 22,
     "metadata": {},
     "output_type": "execute_result"
    }
   ],
   "source": [
    "faceFound"
   ]
  }
 ],
 "metadata": {
  "kernelspec": {
   "display_name": "Python 3",
   "language": "python",
   "name": "python3"
  },
  "language_info": {
   "codemirror_mode": {
    "name": "ipython",
    "version": 3
   },
   "file_extension": ".py",
   "mimetype": "text/x-python",
   "name": "python",
   "nbconvert_exporter": "python",
   "pygments_lexer": "ipython3",
   "version": "3.7.3"
  }
 },
 "nbformat": 4,
 "nbformat_minor": 2
}
